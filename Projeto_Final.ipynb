{
 "cells": [
  {
   "cell_type": "code",
   "execution_count": 12,
   "id": "d4d0db7e-8678-4f26-944d-2b90f950387e",
   "metadata": {
    "tags": []
   },
   "outputs": [
    {
     "name": "stderr",
     "output_type": "stream",
     "text": [
      "/var/folders/_k/58jdphbs5pj0tbmhzg3ccj5w0000gn/T/ipykernel_38900/161411547.py:34: UserWarning: pandas only supports SQLAlchemy connectable (engine/connection) or database string URI or sqlite3 DBAPI2 connection. Other DBAPI2 objects are not tested. Please consider using SQLAlchemy.\n",
      "  df = pd.read_sql_query(consulta_sql, conexao)\n"
     ]
    },
    {
     "data": {
      "text/plain": [
       "(241, 8)"
      ]
     },
     "execution_count": 12,
     "metadata": {},
     "output_type": "execute_result"
    }
   ],
   "source": [
    "import psycopg2\n",
    "import pandas as pd\n",
    "from sklearn.model_selection import train_test_split\n",
    "from sklearn.tree import DecisionTreeClassifier\n",
    "from sklearn.metrics import accuracy_score, classification_report\n",
    "from sklearn.preprocessing import LabelEncoder\n",
    "from sklearn.metrics import confusion_matrix, accuracy_score\n",
    "from yellowbrick.classifier import ConfusionMatrix \n",
    "from sklearn.naive_bayes import GaussianNB\n",
    "\n",
    "# Conexão com o banco de dados PostgreSQL\n",
    "conexao = psycopg2.connect(host=\"localhost\", database=\"Projeto_Final\", user=\"postgres\", password=\"\", port=5432)\n",
    "\n",
    "# Consulta SQL para selecionar os dados do banco de dados\n",
    "consulta_sql = \"\"\"\n",
    "SELECT cl.\"cliente\", \n",
    "       c.\"IDCREDITO\", \n",
    "       hc.\"HISTORICO\", \n",
    "       p.\"PROFISSAO\",\n",
    "       f.\"FIADOR\",\n",
    "       i.\"INVESTIMENTOS\",\n",
    "       of.\"OUTROSFINANCIAMENTOS\",\n",
    "       c.\"Status\"\n",
    "FROM public.\"CLIENTES\" cl\n",
    "JOIN public.\"CREDITO\" c ON cl.\"idcliente\" = c.\"IDCREDITO\"\n",
    "JOIN public.\"HISTORICO_CREDITO\" hc ON c.\"HistoricoCredito\" = hc.\"IDHISTCRED\"\n",
    "JOIN public.\"PROFISSAO\" p ON c.\"Profissao\" = p.\"IDPROFISSAO\"\n",
    "JOIN public.\"FIADOR\" f ON c.\"FiadorTerceiros\" = f.\"IDFIADOR\"\n",
    "JOIN public.\"INVESTIMENTOS\" i ON c.\"Investimentos\" = i.\"IDINVESTIMENTOS\"\n",
    "JOIN public.\"OUTROSFINANC\" of ON c.\"OutrosFinanciamentos\" = of.\"IDOUTROSFINANC\";\n",
    "\"\"\"\n",
    "\n",
    "# Carregar os dados do banco de dados para um DataFrame\n",
    "df = pd.read_sql_query(consulta_sql, conexao)\n",
    "df.shape"
   ]
  },
  {
   "cell_type": "code",
   "execution_count": 13,
   "id": "742be2c5-f35e-4641-85e0-a85bc9e9bb83",
   "metadata": {
    "tags": []
   },
   "outputs": [],
   "source": [
    "previsores = df.iloc[:, 0:7].values\n",
    "classe = df.iloc[:,7].values"
   ]
  },
  {
   "cell_type": "code",
   "execution_count": 14,
   "id": "5a908667-dbb2-4935-ace1-cfdc54ede0a7",
   "metadata": {
    "tags": []
   },
   "outputs": [],
   "source": [
    "labelencoder1 = LabelEncoder()\n",
    "previsores[:,0] = labelencoder1.fit_transform(previsores[:,0])\n",
    "\n",
    "labelencoder2 = LabelEncoder()\n",
    "previsores[:,2] = labelencoder2.fit_transform(previsores[:,2])\n",
    "\n",
    "labelencoder3 = LabelEncoder()\n",
    "previsores[:, 3] = labelencoder3.fit_transform(previsores[:, 3])\n",
    "\n",
    "labelencoder4 = LabelEncoder()\n",
    "previsores[:, 4] = labelencoder4.fit_transform(previsores[:, 4])\n",
    "\n",
    "labelencoder5 = LabelEncoder()\n",
    "previsores[:, 5] = labelencoder5.fit_transform(previsores[:, 5])\n",
    "\n",
    "labelencoder6 = LabelEncoder()\n",
    "previsores[:, 6] = labelencoder6.fit_transform(previsores[:, 6])\n"
   ]
  },
  {
   "cell_type": "code",
   "execution_count": 15,
   "id": "f6241c8e-9b34-4d3b-ac80-b59cb89c1ed7",
   "metadata": {
    "tags": []
   },
   "outputs": [
    {
     "data": {
      "text/plain": [
       "array([[107, 115, 2, 3, 2, 1, 2],\n",
       "       [65, 76, 1, 0, 2, 2, 2],\n",
       "       [37, 40, 2, 3, 2, 2, 2],\n",
       "       [69, 79, 3, 2, 2, 4, 2],\n",
       "       [106, 114, 1, 3, 2, 2, 1],\n",
       "       [228, 238, 2, 2, 2, 0, 0],\n",
       "       [156, 162, 1, 3, 2, 2, 2],\n",
       "       [219, 229, 2, 3, 2, 2, 2],\n",
       "       [152, 158, 4, 2, 2, 2, 0],\n",
       "       [235, 245, 4, 2, 2, 1, 2],\n",
       "       [96, 81, 2, 3, 2, 4, 2],\n",
       "       [178, 186, 1, 3, 2, 2, 2],\n",
       "       [78, 88, 2, 3, 2, 0, 2],\n",
       "       [157, 163, 2, 3, 2, 1, 2],\n",
       "       [186, 194, 2, 3, 2, 2, 2],\n",
       "       [134, 140, 2, 2, 2, 2, 2],\n",
       "       [194, 202, 2, 2, 2, 2, 2],\n",
       "       [109, 117, 2, 0, 2, 4, 2],\n",
       "       [222, 230, 2, 3, 2, 2, 0],\n",
       "       [8, 11, 2, 3, 2, 2, 2],\n",
       "       [101, 107, 4, 0, 2, 2, 0],\n",
       "       [180, 188, 1, 1, 2, 2, 2],\n",
       "       [83, 94, 1, 3, 1, 4, 2],\n",
       "       [120, 128, 2, 3, 2, 2, 2],\n",
       "       [5, 7, 2, 3, 2, 1, 2],\n",
       "       [22, 25, 1, 3, 2, 4, 2],\n",
       "       [200, 208, 1, 3, 2, 2, 2],\n",
       "       [97, 103, 0, 3, 2, 2, 2],\n",
       "       [12, 15, 2, 3, 2, 2, 2],\n",
       "       [168, 173, 0, 0, 2, 2, 2],\n",
       "       [53, 59, 2, 0, 2, 2, 2],\n",
       "       [44, 48, 2, 1, 2, 1, 2],\n",
       "       [149, 155, 0, 0, 2, 0, 2],\n",
       "       [125, 131, 2, 3, 2, 4, 2],\n",
       "       [144, 150, 1, 3, 2, 3, 2],\n",
       "       [116, 124, 1, 3, 2, 2, 2],\n",
       "       [145, 151, 2, 3, 2, 0, 0],\n",
       "       [171, 179, 2, 0, 2, 2, 2],\n",
       "       [61, 68, 2, 3, 2, 3, 2],\n",
       "       [86, 98, 2, 3, 2, 0, 2],\n",
       "       [154, 160, 1, 2, 2, 4, 2],\n",
       "       [45, 49, 1, 2, 2, 2, 2],\n",
       "       [205, 215, 1, 3, 2, 4, 2],\n",
       "       [18, 21, 1, 3, 2, 2, 2],\n",
       "       [104, 112, 2, 3, 2, 2, 2],\n",
       "       [15, 18, 3, 3, 2, 4, 0],\n",
       "       [122, 110, 2, 3, 2, 1, 2],\n",
       "       [7, 9, 2, 2, 2, 3, 2],\n",
       "       [108, 116, 1, 3, 2, 4, 2],\n",
       "       [173, 181, 0, 3, 2, 2, 2],\n",
       "       [60, 67, 2, 3, 2, 2, 0],\n",
       "       [153, 159, 2, 3, 2, 0, 0],\n",
       "       [234, 244, 1, 3, 2, 2, 2],\n",
       "       [139, 145, 1, 3, 2, 2, 2],\n",
       "       [90, 102, 2, 3, 2, 2, 2],\n",
       "       [32, 36, 1, 2, 2, 2, 2],\n",
       "       [210, 220, 2, 3, 2, 2, 2],\n",
       "       [158, 164, 2, 0, 2, 2, 0],\n",
       "       [114, 122, 1, 0, 2, 2, 2],\n",
       "       [166, 176, 4, 0, 2, 4, 0],\n",
       "       [70, 80, 2, 3, 2, 2, 2],\n",
       "       [227, 237, 2, 1, 2, 4, 2],\n",
       "       [84, 96, 3, 3, 2, 2, 2],\n",
       "       [231, 241, 2, 3, 2, 4, 0],\n",
       "       [202, 210, 2, 3, 2, 3, 2],\n",
       "       [155, 161, 1, 3, 2, 0, 2],\n",
       "       [16, 19, 2, 0, 2, 2, 2],\n",
       "       [217, 227, 2, 3, 1, 3, 0],\n",
       "       [128, 135, 2, 3, 2, 0, 2],\n",
       "       [67, 78, 0, 3, 2, 2, 2],\n",
       "       [2, 6, 2, 2, 2, 4, 2],\n",
       "       [105, 113, 2, 2, 2, 2, 2],\n",
       "       [58, 65, 2, 3, 2, 2, 2]], dtype=object)"
      ]
     },
     "execution_count": 15,
     "metadata": {},
     "output_type": "execute_result"
    }
   ],
   "source": [
    "# Divisão da base de dados entre treinamento e teste (30% para testar e 70% para treinar)\n",
    "X_treinamento, X_teste, y_treinamento, y_teste = train_test_split(previsores,\n",
    "                                                                  classe,\n",
    "                                                                  test_size = 0.3,\n",
    "                                                                  random_state = 0)\n",
    "X_teste"
   ]
  },
  {
   "cell_type": "code",
   "execution_count": 16,
   "id": "cec7bbbc-9ad5-452b-93dc-726701abdf1e",
   "metadata": {
    "tags": []
   },
   "outputs": [
    {
     "data": {
      "text/html": [
       "<style>#sk-container-id-2 {color: black;}#sk-container-id-2 pre{padding: 0;}#sk-container-id-2 div.sk-toggleable {background-color: white;}#sk-container-id-2 label.sk-toggleable__label {cursor: pointer;display: block;width: 100%;margin-bottom: 0;padding: 0.3em;box-sizing: border-box;text-align: center;}#sk-container-id-2 label.sk-toggleable__label-arrow:before {content: \"▸\";float: left;margin-right: 0.25em;color: #696969;}#sk-container-id-2 label.sk-toggleable__label-arrow:hover:before {color: black;}#sk-container-id-2 div.sk-estimator:hover label.sk-toggleable__label-arrow:before {color: black;}#sk-container-id-2 div.sk-toggleable__content {max-height: 0;max-width: 0;overflow: hidden;text-align: left;background-color: #f0f8ff;}#sk-container-id-2 div.sk-toggleable__content pre {margin: 0.2em;color: black;border-radius: 0.25em;background-color: #f0f8ff;}#sk-container-id-2 input.sk-toggleable__control:checked~div.sk-toggleable__content {max-height: 200px;max-width: 100%;overflow: auto;}#sk-container-id-2 input.sk-toggleable__control:checked~label.sk-toggleable__label-arrow:before {content: \"▾\";}#sk-container-id-2 div.sk-estimator input.sk-toggleable__control:checked~label.sk-toggleable__label {background-color: #d4ebff;}#sk-container-id-2 div.sk-label input.sk-toggleable__control:checked~label.sk-toggleable__label {background-color: #d4ebff;}#sk-container-id-2 input.sk-hidden--visually {border: 0;clip: rect(1px 1px 1px 1px);clip: rect(1px, 1px, 1px, 1px);height: 1px;margin: -1px;overflow: hidden;padding: 0;position: absolute;width: 1px;}#sk-container-id-2 div.sk-estimator {font-family: monospace;background-color: #f0f8ff;border: 1px dotted black;border-radius: 0.25em;box-sizing: border-box;margin-bottom: 0.5em;}#sk-container-id-2 div.sk-estimator:hover {background-color: #d4ebff;}#sk-container-id-2 div.sk-parallel-item::after {content: \"\";width: 100%;border-bottom: 1px solid gray;flex-grow: 1;}#sk-container-id-2 div.sk-label:hover label.sk-toggleable__label {background-color: #d4ebff;}#sk-container-id-2 div.sk-serial::before {content: \"\";position: absolute;border-left: 1px solid gray;box-sizing: border-box;top: 0;bottom: 0;left: 50%;z-index: 0;}#sk-container-id-2 div.sk-serial {display: flex;flex-direction: column;align-items: center;background-color: white;padding-right: 0.2em;padding-left: 0.2em;position: relative;}#sk-container-id-2 div.sk-item {position: relative;z-index: 1;}#sk-container-id-2 div.sk-parallel {display: flex;align-items: stretch;justify-content: center;background-color: white;position: relative;}#sk-container-id-2 div.sk-item::before, #sk-container-id-2 div.sk-parallel-item::before {content: \"\";position: absolute;border-left: 1px solid gray;box-sizing: border-box;top: 0;bottom: 0;left: 50%;z-index: -1;}#sk-container-id-2 div.sk-parallel-item {display: flex;flex-direction: column;z-index: 1;position: relative;background-color: white;}#sk-container-id-2 div.sk-parallel-item:first-child::after {align-self: flex-end;width: 50%;}#sk-container-id-2 div.sk-parallel-item:last-child::after {align-self: flex-start;width: 50%;}#sk-container-id-2 div.sk-parallel-item:only-child::after {width: 0;}#sk-container-id-2 div.sk-dashed-wrapped {border: 1px dashed gray;margin: 0 0.4em 0.5em 0.4em;box-sizing: border-box;padding-bottom: 0.4em;background-color: white;}#sk-container-id-2 div.sk-label label {font-family: monospace;font-weight: bold;display: inline-block;line-height: 1.2em;}#sk-container-id-2 div.sk-label-container {text-align: center;}#sk-container-id-2 div.sk-container {/* jupyter's `normalize.less` sets `[hidden] { display: none; }` but bootstrap.min.css set `[hidden] { display: none !important; }` so we also need the `!important` here to be able to override the default hidden behavior on the sphinx rendered scikit-learn.org. See: https://github.com/scikit-learn/scikit-learn/issues/21755 */display: inline-block !important;position: relative;}#sk-container-id-2 div.sk-text-repr-fallback {display: none;}</style><div id=\"sk-container-id-2\" class=\"sk-top-container\"><div class=\"sk-text-repr-fallback\"><pre>GaussianNB()</pre><b>In a Jupyter environment, please rerun this cell to show the HTML representation or trust the notebook. <br />On GitHub, the HTML representation is unable to render, please try loading this page with nbviewer.org.</b></div><div class=\"sk-container\" hidden><div class=\"sk-item\"><div class=\"sk-estimator sk-toggleable\"><input class=\"sk-toggleable__control sk-hidden--visually\" id=\"sk-estimator-id-2\" type=\"checkbox\" checked><label for=\"sk-estimator-id-2\" class=\"sk-toggleable__label sk-toggleable__label-arrow\">GaussianNB</label><div class=\"sk-toggleable__content\"><pre>GaussianNB()</pre></div></div></div></div></div>"
      ],
      "text/plain": [
       "GaussianNB()"
      ]
     },
     "execution_count": 16,
     "metadata": {},
     "output_type": "execute_result"
    }
   ],
   "source": [
    "# Criação e treinamento do modelo (geração da tabela de probabilidades)\n",
    "naive_bayes = GaussianNB()\n",
    "naive_bayes.fit(X_treinamento, y_treinamento)"
   ]
  },
  {
   "cell_type": "code",
   "execution_count": 17,
   "id": "74831b6a-e144-4815-917f-a3f17227ea1a",
   "metadata": {
    "tags": []
   },
   "outputs": [
    {
     "data": {
      "text/plain": [
       "array([1, 0, 1, 1, 1, 1, 1, 1, 1, 0, 1, 1, 1, 1, 1, 1, 1, 1, 1, 1, 0, 1,\n",
       "       0, 1, 1, 1, 1, 1, 1, 0, 0, 1, 0, 1, 1, 1, 1, 0, 1, 1, 1, 1, 1, 1,\n",
       "       1, 1, 1, 1, 1, 1, 1, 1, 1, 1, 1, 1, 1, 1, 0, 0, 1, 1, 1, 1, 1, 1,\n",
       "       1, 0, 1, 1, 1, 1, 1])"
      ]
     },
     "execution_count": 17,
     "metadata": {},
     "output_type": "execute_result"
    }
   ],
   "source": [
    "# Previsões utilizando os registros de teste\n",
    "previsoes = naive_bayes.predict(X_teste)\n",
    "previsoes"
   ]
  },
  {
   "cell_type": "code",
   "execution_count": 18,
   "id": "6278090a-699d-4164-9a69-7c1a3a03d49e",
   "metadata": {
    "tags": []
   },
   "outputs": [
    {
     "data": {
      "text/plain": [
       "array([[ 4, 14],\n",
       "       [ 7, 48]])"
      ]
     },
     "execution_count": 18,
     "metadata": {},
     "output_type": "execute_result"
    }
   ],
   "source": [
    "#geração da matriz de confusão e cálculo da taxa de acerto e erro\n",
    "confusao = confusion_matrix(y_teste, previsoes)\n",
    "confusao"
   ]
  },
  {
   "cell_type": "code",
   "execution_count": 8,
   "id": "b5edd058-b626-480b-abeb-08e58f0c5935",
   "metadata": {
    "tags": []
   },
   "outputs": [
    {
     "data": {
      "text/plain": [
       "0.7123287671232876"
      ]
     },
     "execution_count": 8,
     "metadata": {},
     "output_type": "execute_result"
    }
   ],
   "source": [
    "taxa_acerto = accuracy_score(y_teste, previsoes)\n",
    "taxa_erro = 1 - taxa_acerto\n",
    "taxa_acerto"
   ]
  },
  {
   "cell_type": "code",
   "execution_count": 9,
   "id": "9a60f438-93de-4a49-8327-5e1151e00f33",
   "metadata": {
    "tags": []
   },
   "outputs": [
    {
     "data": {
      "image/png": "[encoded data removed]",
      "text/plain": [
       "<Figure size 800x550 with 1 Axes>"
      ]
     },
     "metadata": {},
     "output_type": "display_data"
    },
    {
     "data": {
      "text/plain": [
       "<Axes: title={'center': 'GaussianNB Confusion Matrix'}, xlabel='Predicted Class', ylabel='True Class'>"
      ]
     },
     "execution_count": 9,
     "metadata": {},
     "output_type": "execute_result"
    }
   ],
   "source": [
    "# Visualização da matriz de confusão\n",
    "v = ConfusionMatrix(GaussianNB())\n",
    "v.fit(X_treinamento, y_treinamento)\n",
    "v.score(X_teste, y_teste)\n",
    "v.poof()"
   ]
  },
  {
   "cell_type": "code",
   "execution_count": null,
   "id": "fe2f890d-f626-459f-9109-5e43c6b330b8",
   "metadata": {},
   "outputs": [],
   "source": []
  }
 ],
 "metadata": {
  "kernelspec": {
   "display_name": "Python 3 (ipykernel)",
   "language": "python",
   "name": "python3"
  },
  "language_info": {
   "codemirror_mode": {
    "name": "ipython",
    "version": 3
   },
   "file_extension": ".py",
   "mimetype": "text/x-python",
   "name": "python",
   "nbconvert_exporter": "python",
   "pygments_lexer": "ipython3",
   "version": "3.11.5"
  }
 },
 "nbformat": 4,
 "nbformat_minor": 5
}
