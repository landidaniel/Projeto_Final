{
 "cells": [
  {
   "cell_type": "code",
   "execution_count": 1,
   "id": "4260317d-c6bd-4637-8be1-f5f7214d1a12",
   "metadata": {
    "tags": []
   },
   "outputs": [
    {
     "name": "stderr",
     "output_type": "stream",
     "text": [
      "/var/folders/_k/58jdphbs5pj0tbmhzg3ccj5w0000gn/T/ipykernel_43613/3654625468.py:34: UserWarning: pandas only supports SQLAlchemy connectable (engine/connection) or database string URI or sqlite3 DBAPI2 connection. Other DBAPI2 objects are not tested. Please consider using SQLAlchemy.\n",
      "  df = pd.read_sql_query(consulta_sql, conexao)\n"
     ]
    },
    {
     "data": {
      "text/plain": [
       "(241, 8)"
      ]
     },
     "execution_count": 1,
     "metadata": {},
     "output_type": "execute_result"
    }
   ],
   "source": [
    "import psycopg2\n",
    "import pandas as pd\n",
    "from sklearn.model_selection import train_test_split\n",
    "from sklearn.metrics import accuracy_score, classification_report\n",
    "from sklearn.preprocessing import LabelEncoder\n",
    "from sklearn.metrics import confusion_matrix, accuracy_score\n",
    "from sklearn.ensemble import RandomForestClassifier\n",
    "\n",
    "\n",
    "\n",
    "# Conexão com o banco de dados PostgreSQL\n",
    "conexao = psycopg2.connect(host=\"localhost\", database=\"Projeto_Final\", user=\"postgres\", password=\"\", port=5432)\n",
    "\n",
    "# Consulta SQL para selecionar os dados do banco de dados\n",
    "consulta_sql = \"\"\"\n",
    "SELECT cl.\"cliente\", \n",
    "       c.\"IDCREDITO\", \n",
    "       hc.\"HISTORICO\", \n",
    "       p.\"PROFISSAO\",\n",
    "       f.\"FIADOR\",\n",
    "       i.\"INVESTIMENTOS\",\n",
    "       of.\"OUTROSFINANCIAMENTOS\",\n",
    "       c.\"Status\"\n",
    "FROM public.\"CLIENTES\" cl\n",
    "JOIN public.\"CREDITO\" c ON cl.\"idcliente\" = c.\"IDCREDITO\"\n",
    "JOIN public.\"HISTORICO_CREDITO\" hc ON c.\"HistoricoCredito\" = hc.\"IDHISTCRED\"\n",
    "JOIN public.\"PROFISSAO\" p ON c.\"Profissao\" = p.\"IDPROFISSAO\"\n",
    "JOIN public.\"FIADOR\" f ON c.\"FiadorTerceiros\" = f.\"IDFIADOR\"\n",
    "JOIN public.\"INVESTIMENTOS\" i ON c.\"Investimentos\" = i.\"IDINVESTIMENTOS\"\n",
    "JOIN public.\"OUTROSFINANC\" of ON c.\"OutrosFinanciamentos\" = of.\"IDOUTROSFINANC\";\n",
    "\"\"\"\n",
    "\n",
    "# Carregar os dados do banco de dados para um DataFrame\n",
    "df = pd.read_sql_query(consulta_sql, conexao)\n",
    "df.shape"
   ]
  },
  {
   "cell_type": "code",
   "execution_count": 2,
   "id": "e4aa242e-67df-42ee-a701-e50673feaa0d",
   "metadata": {
    "tags": []
   },
   "outputs": [],
   "source": [
    "previsores = df.iloc[:, 0:7].values\n",
    "classe = df.iloc[:,7].values"
   ]
  },
  {
   "cell_type": "code",
   "execution_count": 3,
   "id": "8256bfaf-3d0d-4194-8ead-f3281ffb63a2",
   "metadata": {
    "tags": []
   },
   "outputs": [],
   "source": [
    "# Transformação dos atributos categóricos em atributos numéricos\n",
    "labelencoder1 = LabelEncoder()\n",
    "previsores[:,0] = labelencoder1.fit_transform(previsores[:,0])\n",
    "\n",
    "labelencoder2 = LabelEncoder()\n",
    "previsores[:,2] = labelencoder2.fit_transform(previsores[:,2])\n",
    "\n",
    "labelencoder3 = LabelEncoder()\n",
    "previsores[:, 3] = labelencoder3.fit_transform(previsores[:, 3])\n",
    "\n",
    "labelencoder4 = LabelEncoder()\n",
    "previsores[:, 4] = labelencoder4.fit_transform(previsores[:, 4])\n",
    "\n",
    "labelencoder5 = LabelEncoder()\n",
    "previsores[:, 5] = labelencoder5.fit_transform(previsores[:, 5])\n",
    "\n",
    "labelencoder6 = LabelEncoder()\n",
    "previsores[:, 6] = labelencoder6.fit_transform(previsores[:, 6])\n"
   ]
  },
  {
   "cell_type": "code",
   "execution_count": 4,
   "id": "cf05ea47-5a47-4d9e-b55e-980a738e5455",
   "metadata": {
    "tags": []
   },
   "outputs": [],
   "source": [
    "# Divisão da base de dados entre treinamento e teste. Usamos 30% para testar e 70% para treinar. Random_state = 0 para sempre obter a mesma divisão da base quando o código for executado\n",
    "X_treinamento, X_teste, y_treinamento, y_teste = train_test_split(previsores,\n",
    "                                                                  classe,\n",
    "                                                                  test_size = 0.3,\n",
    "                                                                  random_state = 0)"
   ]
  },
  {
   "cell_type": "code",
   "execution_count": 5,
   "id": "83801ec4-7728-4ce9-a317-938a7db5d295",
   "metadata": {
    "tags": []
   },
   "outputs": [
    {
     "data": {
      "text/html": [
       "<style>#sk-container-id-1 {color: black;}#sk-container-id-1 pre{padding: 0;}#sk-container-id-1 div.sk-toggleable {background-color: white;}#sk-container-id-1 label.sk-toggleable__label {cursor: pointer;display: block;width: 100%;margin-bottom: 0;padding: 0.3em;box-sizing: border-box;text-align: center;}#sk-container-id-1 label.sk-toggleable__label-arrow:before {content: \"▸\";float: left;margin-right: 0.25em;color: #696969;}#sk-container-id-1 label.sk-toggleable__label-arrow:hover:before {color: black;}#sk-container-id-1 div.sk-estimator:hover label.sk-toggleable__label-arrow:before {color: black;}#sk-container-id-1 div.sk-toggleable__content {max-height: 0;max-width: 0;overflow: hidden;text-align: left;background-color: #f0f8ff;}#sk-container-id-1 div.sk-toggleable__content pre {margin: 0.2em;color: black;border-radius: 0.25em;background-color: #f0f8ff;}#sk-container-id-1 input.sk-toggleable__control:checked~div.sk-toggleable__content {max-height: 200px;max-width: 100%;overflow: auto;}#sk-container-id-1 input.sk-toggleable__control:checked~label.sk-toggleable__label-arrow:before {content: \"▾\";}#sk-container-id-1 div.sk-estimator input.sk-toggleable__control:checked~label.sk-toggleable__label {background-color: #d4ebff;}#sk-container-id-1 div.sk-label input.sk-toggleable__control:checked~label.sk-toggleable__label {background-color: #d4ebff;}#sk-container-id-1 input.sk-hidden--visually {border: 0;clip: rect(1px 1px 1px 1px);clip: rect(1px, 1px, 1px, 1px);height: 1px;margin: -1px;overflow: hidden;padding: 0;position: absolute;width: 1px;}#sk-container-id-1 div.sk-estimator {font-family: monospace;background-color: #f0f8ff;border: 1px dotted black;border-radius: 0.25em;box-sizing: border-box;margin-bottom: 0.5em;}#sk-container-id-1 div.sk-estimator:hover {background-color: #d4ebff;}#sk-container-id-1 div.sk-parallel-item::after {content: \"\";width: 100%;border-bottom: 1px solid gray;flex-grow: 1;}#sk-container-id-1 div.sk-label:hover label.sk-toggleable__label {background-color: #d4ebff;}#sk-container-id-1 div.sk-serial::before {content: \"\";position: absolute;border-left: 1px solid gray;box-sizing: border-box;top: 0;bottom: 0;left: 50%;z-index: 0;}#sk-container-id-1 div.sk-serial {display: flex;flex-direction: column;align-items: center;background-color: white;padding-right: 0.2em;padding-left: 0.2em;position: relative;}#sk-container-id-1 div.sk-item {position: relative;z-index: 1;}#sk-container-id-1 div.sk-parallel {display: flex;align-items: stretch;justify-content: center;background-color: white;position: relative;}#sk-container-id-1 div.sk-item::before, #sk-container-id-1 div.sk-parallel-item::before {content: \"\";position: absolute;border-left: 1px solid gray;box-sizing: border-box;top: 0;bottom: 0;left: 50%;z-index: -1;}#sk-container-id-1 div.sk-parallel-item {display: flex;flex-direction: column;z-index: 1;position: relative;background-color: white;}#sk-container-id-1 div.sk-parallel-item:first-child::after {align-self: flex-end;width: 50%;}#sk-container-id-1 div.sk-parallel-item:last-child::after {align-self: flex-start;width: 50%;}#sk-container-id-1 div.sk-parallel-item:only-child::after {width: 0;}#sk-container-id-1 div.sk-dashed-wrapped {border: 1px dashed gray;margin: 0 0.4em 0.5em 0.4em;box-sizing: border-box;padding-bottom: 0.4em;background-color: white;}#sk-container-id-1 div.sk-label label {font-family: monospace;font-weight: bold;display: inline-block;line-height: 1.2em;}#sk-container-id-1 div.sk-label-container {text-align: center;}#sk-container-id-1 div.sk-container {/* jupyter's `normalize.less` sets `[hidden] { display: none; }` but bootstrap.min.css set `[hidden] { display: none !important; }` so we also need the `!important` here to be able to override the default hidden behavior on the sphinx rendered scikit-learn.org. See: https://github.com/scikit-learn/scikit-learn/issues/21755 */display: inline-block !important;position: relative;}#sk-container-id-1 div.sk-text-repr-fallback {display: none;}</style><div id=\"sk-container-id-1\" class=\"sk-top-container\"><div class=\"sk-text-repr-fallback\"><pre>RandomForestClassifier()</pre><b>In a Jupyter environment, please rerun this cell to show the HTML representation or trust the notebook. <br />On GitHub, the HTML representation is unable to render, please try loading this page with nbviewer.org.</b></div><div class=\"sk-container\" hidden><div class=\"sk-item\"><div class=\"sk-estimator sk-toggleable\"><input class=\"sk-toggleable__control sk-hidden--visually\" id=\"sk-estimator-id-1\" type=\"checkbox\" checked><label for=\"sk-estimator-id-1\" class=\"sk-toggleable__label sk-toggleable__label-arrow\">RandomForestClassifier</label><div class=\"sk-toggleable__content\"><pre>RandomForestClassifier()</pre></div></div></div></div></div>"
      ],
      "text/plain": [
       "RandomForestClassifier()"
      ]
     },
     "execution_count": 5,
     "metadata": {},
     "output_type": "execute_result"
    }
   ],
   "source": [
    "# Criação do modelo, treinamento\n",
    "floresta = RandomForestClassifier(n_estimators = 100)\n",
    "floresta.fit(X_treinamento, y_treinamento)"
   ]
  },
  {
   "cell_type": "code",
   "execution_count": 6,
   "id": "9939deda-c552-4721-a716-d9c71d33e13c",
   "metadata": {
    "tags": []
   },
   "outputs": [
    {
     "data": {
      "text/plain": [
       "[DecisionTreeClassifier(max_features='sqrt', random_state=1545470041),\n",
       " DecisionTreeClassifier(max_features='sqrt', random_state=610205114),\n",
       " DecisionTreeClassifier(max_features='sqrt', random_state=1365690879),\n",
       " DecisionTreeClassifier(max_features='sqrt', random_state=1646575849),\n",
       " DecisionTreeClassifier(max_features='sqrt', random_state=1630368091),\n",
       " DecisionTreeClassifier(max_features='sqrt', random_state=102423230),\n",
       " DecisionTreeClassifier(max_features='sqrt', random_state=1594478564),\n",
       " DecisionTreeClassifier(max_features='sqrt', random_state=1823210592),\n",
       " DecisionTreeClassifier(max_features='sqrt', random_state=642322638),\n",
       " DecisionTreeClassifier(max_features='sqrt', random_state=1209611275),\n",
       " DecisionTreeClassifier(max_features='sqrt', random_state=1745372224),\n",
       " DecisionTreeClassifier(max_features='sqrt', random_state=1930039951),\n",
       " DecisionTreeClassifier(max_features='sqrt', random_state=1408403985),\n",
       " DecisionTreeClassifier(max_features='sqrt', random_state=2094933818),\n",
       " DecisionTreeClassifier(max_features='sqrt', random_state=317131256),\n",
       " DecisionTreeClassifier(max_features='sqrt', random_state=794569322),\n",
       " DecisionTreeClassifier(max_features='sqrt', random_state=892030904),\n",
       " DecisionTreeClassifier(max_features='sqrt', random_state=338515592),\n",
       " DecisionTreeClassifier(max_features='sqrt', random_state=265017089),\n",
       " DecisionTreeClassifier(max_features='sqrt', random_state=575037834),\n",
       " DecisionTreeClassifier(max_features='sqrt', random_state=346048851),\n",
       " DecisionTreeClassifier(max_features='sqrt', random_state=1447870577),\n",
       " DecisionTreeClassifier(max_features='sqrt', random_state=1738722933),\n",
       " DecisionTreeClassifier(max_features='sqrt', random_state=197704811),\n",
       " DecisionTreeClassifier(max_features='sqrt', random_state=207269430),\n",
       " DecisionTreeClassifier(max_features='sqrt', random_state=436051687),\n",
       " DecisionTreeClassifier(max_features='sqrt', random_state=1715087701),\n",
       " DecisionTreeClassifier(max_features='sqrt', random_state=1279935392),\n",
       " DecisionTreeClassifier(max_features='sqrt', random_state=1311054465),\n",
       " DecisionTreeClassifier(max_features='sqrt', random_state=1409697013),\n",
       " DecisionTreeClassifier(max_features='sqrt', random_state=1506137840),\n",
       " DecisionTreeClassifier(max_features='sqrt', random_state=109087241),\n",
       " DecisionTreeClassifier(max_features='sqrt', random_state=463826185),\n",
       " DecisionTreeClassifier(max_features='sqrt', random_state=772712279),\n",
       " DecisionTreeClassifier(max_features='sqrt', random_state=1646132345),\n",
       " DecisionTreeClassifier(max_features='sqrt', random_state=1751929755),\n",
       " DecisionTreeClassifier(max_features='sqrt', random_state=439540041),\n",
       " DecisionTreeClassifier(max_features='sqrt', random_state=2044556743),\n",
       " DecisionTreeClassifier(max_features='sqrt', random_state=1615950684),\n",
       " DecisionTreeClassifier(max_features='sqrt', random_state=734744299),\n",
       " DecisionTreeClassifier(max_features='sqrt', random_state=1234947580),\n",
       " DecisionTreeClassifier(max_features='sqrt', random_state=977610064),\n",
       " DecisionTreeClassifier(max_features='sqrt', random_state=1846732772),\n",
       " DecisionTreeClassifier(max_features='sqrt', random_state=2092397552),\n",
       " DecisionTreeClassifier(max_features='sqrt', random_state=2114185092),\n",
       " DecisionTreeClassifier(max_features='sqrt', random_state=1722598849),\n",
       " DecisionTreeClassifier(max_features='sqrt', random_state=27642737),\n",
       " DecisionTreeClassifier(max_features='sqrt', random_state=1184449328),\n",
       " DecisionTreeClassifier(max_features='sqrt', random_state=1283770804),\n",
       " DecisionTreeClassifier(max_features='sqrt', random_state=761409894),\n",
       " DecisionTreeClassifier(max_features='sqrt', random_state=446804940),\n",
       " DecisionTreeClassifier(max_features='sqrt', random_state=101912358),\n",
       " DecisionTreeClassifier(max_features='sqrt', random_state=1352727142),\n",
       " DecisionTreeClassifier(max_features='sqrt', random_state=1613618852),\n",
       " DecisionTreeClassifier(max_features='sqrt', random_state=229434817),\n",
       " DecisionTreeClassifier(max_features='sqrt', random_state=878007713),\n",
       " DecisionTreeClassifier(max_features='sqrt', random_state=265257605),\n",
       " DecisionTreeClassifier(max_features='sqrt', random_state=894118565),\n",
       " DecisionTreeClassifier(max_features='sqrt', random_state=1819926092),\n",
       " DecisionTreeClassifier(max_features='sqrt', random_state=1815961564),\n",
       " DecisionTreeClassifier(max_features='sqrt', random_state=1593212789),\n",
       " DecisionTreeClassifier(max_features='sqrt', random_state=1796746717),\n",
       " DecisionTreeClassifier(max_features='sqrt', random_state=1666198885),\n",
       " DecisionTreeClassifier(max_features='sqrt', random_state=905153781),\n",
       " DecisionTreeClassifier(max_features='sqrt', random_state=542616108),\n",
       " DecisionTreeClassifier(max_features='sqrt', random_state=1811565366),\n",
       " DecisionTreeClassifier(max_features='sqrt', random_state=1879505925),\n",
       " DecisionTreeClassifier(max_features='sqrt', random_state=1252088922),\n",
       " DecisionTreeClassifier(max_features='sqrt', random_state=10854931),\n",
       " DecisionTreeClassifier(max_features='sqrt', random_state=86368680),\n",
       " DecisionTreeClassifier(max_features='sqrt', random_state=1601057484),\n",
       " DecisionTreeClassifier(max_features='sqrt', random_state=1106429222),\n",
       " DecisionTreeClassifier(max_features='sqrt', random_state=1663654969),\n",
       " DecisionTreeClassifier(max_features='sqrt', random_state=510574819),\n",
       " DecisionTreeClassifier(max_features='sqrt', random_state=1582983831),\n",
       " DecisionTreeClassifier(max_features='sqrt', random_state=1186832414),\n",
       " DecisionTreeClassifier(max_features='sqrt', random_state=979071160),\n",
       " DecisionTreeClassifier(max_features='sqrt', random_state=125100758),\n",
       " DecisionTreeClassifier(max_features='sqrt', random_state=654920200),\n",
       " DecisionTreeClassifier(max_features='sqrt', random_state=399980150),\n",
       " DecisionTreeClassifier(max_features='sqrt', random_state=948009505),\n",
       " DecisionTreeClassifier(max_features='sqrt', random_state=1590120688),\n",
       " DecisionTreeClassifier(max_features='sqrt', random_state=332489605),\n",
       " DecisionTreeClassifier(max_features='sqrt', random_state=541612524),\n",
       " DecisionTreeClassifier(max_features='sqrt', random_state=1593010335),\n",
       " DecisionTreeClassifier(max_features='sqrt', random_state=2069618101),\n",
       " DecisionTreeClassifier(max_features='sqrt', random_state=1259510202),\n",
       " DecisionTreeClassifier(max_features='sqrt', random_state=1730402388),\n",
       " DecisionTreeClassifier(max_features='sqrt', random_state=1943601230),\n",
       " DecisionTreeClassifier(max_features='sqrt', random_state=1810471212),\n",
       " DecisionTreeClassifier(max_features='sqrt', random_state=2043392465),\n",
       " DecisionTreeClassifier(max_features='sqrt', random_state=1670895103),\n",
       " DecisionTreeClassifier(max_features='sqrt', random_state=1968741600),\n",
       " DecisionTreeClassifier(max_features='sqrt', random_state=1141451623),\n",
       " DecisionTreeClassifier(max_features='sqrt', random_state=1142354299),\n",
       " DecisionTreeClassifier(max_features='sqrt', random_state=281257803),\n",
       " DecisionTreeClassifier(max_features='sqrt', random_state=1721709135),\n",
       " DecisionTreeClassifier(max_features='sqrt', random_state=1636062891),\n",
       " DecisionTreeClassifier(max_features='sqrt', random_state=1039083536),\n",
       " DecisionTreeClassifier(max_features='sqrt', random_state=603630622)]"
      ]
     },
     "execution_count": 6,
     "metadata": {},
     "output_type": "execute_result"
    }
   ],
   "source": [
    "# Visualização dos atributos principais\n",
    "floresta.estimators_"
   ]
  },
  {
   "cell_type": "code",
   "execution_count": 7,
   "id": "1325d93a-073c-429e-88e9-88bb97a010ea",
   "metadata": {
    "tags": []
   },
   "outputs": [
    {
     "name": "stdout",
     "output_type": "stream",
     "text": [
      "80.0 %\n"
     ]
    }
   ],
   "source": [
    "previsoes = floresta.predict(X_teste)\n",
    "confusao = confusion_matrix(y_teste, previsoes)\n",
    "taxa_acerto = accuracy_score(y_teste, previsoes)\n",
    "print(taxa_acerto.round(1)*100,\"%\")"
   ]
  },
  {
   "cell_type": "code",
   "execution_count": 8,
   "id": "0c8a2eb5-12d5-4fa1-ad28-b4b4b50cbacc",
   "metadata": {
    "tags": []
   },
   "outputs": [
    {
     "data": {
      "text/plain": [
       "array([[ 7, 11],\n",
       "       [ 7, 48]])"
      ]
     },
     "execution_count": 8,
     "metadata": {},
     "output_type": "execute_result"
    }
   ],
   "source": [
    "#matriz de confusão\n",
    "confusao = confusion_matrix(y_teste, previsoes)\n",
    "confusao"
   ]
  }
 ],
 "metadata": {
  "kernelspec": {
   "display_name": "Python 3 (ipykernel)",
   "language": "python",
   "name": "python3"
  },
  "language_info": {
   "codemirror_mode": {
    "name": "ipython",
    "version": 3
   },
   "file_extension": ".py",
   "mimetype": "text/x-python",
   "name": "python",
   "nbconvert_exporter": "python",
   "pygments_lexer": "ipython3",
   "version": "3.11.5"
  }
 },
 "nbformat": 4,
 "nbformat_minor": 5
}
